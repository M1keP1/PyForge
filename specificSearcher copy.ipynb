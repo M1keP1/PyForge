{
 "cells": [
  {
   "cell_type": "code",
   "execution_count": 5,
   "metadata": {},
   "outputs": [],
   "source": [
    "def ask():\n",
    "    pattern = input('Enter Search Criteria')\n",
    "    return(pattern)"
   ]
  },
  {
   "cell_type": "code",
   "execution_count": 3,
   "metadata": {},
   "outputs": [],
   "source": [
    "def where():\n",
    "    import os\n",
    "    print(os.getcwd)\n",
    "    here = input('Enter Directory to be searched')\n",
    "    return(here)"
   ]
  },
  {
   "cell_type": "code",
   "execution_count": 7,
   "metadata": {},
   "outputs": [],
   "source": [
    "from types import NoneType\n",
    "\n",
    "\n",
    "def scanner(text,what):\n",
    "    import re\n",
    "    phonepattern = re.compile(what)\n",
    "    phone = re.search(phonepattern,text)\n",
    "    if isinstance(phone,NoneType):\n",
    "        pass\n",
    "    else:\n",
    "        resul=phone.group()\n",
    "    \n",
    "        return resul\n",
    "\n"
   ]
  },
  {
   "cell_type": "code",
   "execution_count": 8,
   "metadata": {},
   "outputs": [
    {
     "name": "stdout",
     "output_type": "stream",
     "text": [
      "<built-in function getcwd>\n",
      "Ananya\n",
      "Found in QCWCFLKNZMN.txt in Four\n"
     ]
    }
   ],
   "source": [
    "filelst=list()\n",
    "import os\n",
    "here=where()\n",
    "what=ask()\n",
    "for folder , sub_folders , files in os.walk(here):\n",
    "        \n",
    "     for sub_fold in sub_folders:\n",
    "        sub_dir_list = os.listdir(here+'/'+sub_fold)\n",
    "        for x in sub_dir_list:\n",
    "            \n",
    "            fi = open(here+f\"/{sub_fold}/{x}\",'r')\n",
    "            content = fi.read()\n",
    "            z =scanner(content,what)\n",
    "            if z!= None:\n",
    "                print(z)\n",
    "                print(f'Found in {x} in {sub_fold}')\n",
    "            \n",
    "       \n",
    "\n",
    "#Working\n",
    "\n",
    "\n",
    "        \n",
    "    \n",
    "       "
   ]
  }
 ],
 "metadata": {
  "kernelspec": {
   "display_name": "Python 3.10.8 64-bit",
   "language": "python",
   "name": "python3"
  },
  "language_info": {
   "codemirror_mode": {
    "name": "ipython",
    "version": 3
   },
   "file_extension": ".py",
   "mimetype": "text/x-python",
   "name": "python",
   "nbconvert_exporter": "python",
   "pygments_lexer": "ipython3",
   "version": "3.10.8"
  },
  "orig_nbformat": 4,
  "vscode": {
   "interpreter": {
    "hash": "aee8b7b246df8f9039afb4144a1f6fd8d2ca17a180786b69acc140d282b71a49"
   }
  }
 },
 "nbformat": 4,
 "nbformat_minor": 2
}
