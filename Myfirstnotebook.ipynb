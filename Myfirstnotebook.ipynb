{
 "cells": [
  {
   "cell_type": "code",
   "execution_count": 52,
   "id": "bf1e267d",
   "metadata": {},
   "outputs": [],
   "source": [
    "name=' Sam'"
   ]
  },
  {
   "cell_type": "code",
   "execution_count": 54,
   "id": "4c2b0983",
   "metadata": {},
   "outputs": [],
   "source": [
    "lastletters=name[1:]"
   ]
  },
  {
   "cell_type": "code",
   "execution_count": 55,
   "id": "86734868",
   "metadata": {},
   "outputs": [
    {
     "data": {
      "text/plain": [
       "'PSam'"
      ]
     },
     "execution_count": 55,
     "metadata": {},
     "output_type": "execute_result"
    }
   ],
   "source": [
    "'P'+ lastletters"
   ]
  },
  {
   "cell_type": "code",
   "execution_count": 56,
   "id": "30c8cd59",
   "metadata": {},
   "outputs": [],
   "source": [
    "x=' its is beautiful outside'"
   ]
  },
  {
   "cell_type": "code",
   "execution_count": 57,
   "id": "adc6203a",
   "metadata": {},
   "outputs": [
    {
     "data": {
      "text/plain": [
       "' Sam its is beautiful outside'"
      ]
     },
     "execution_count": 57,
     "metadata": {},
     "output_type": "execute_result"
    }
   ],
   "source": [
    "name + x"
   ]
  },
  {
   "cell_type": "code",
   "execution_count": 58,
   "id": "06e8cb06",
   "metadata": {},
   "outputs": [],
   "source": [
    "y=name + x"
   ]
  },
  {
   "cell_type": "code",
   "execution_count": 59,
   "id": "6655d6dd",
   "metadata": {},
   "outputs": [],
   "source": [
    "y= name + y"
   ]
  },
  {
   "cell_type": "code",
   "execution_count": 60,
   "id": "ad806309",
   "metadata": {},
   "outputs": [
    {
     "data": {
      "text/plain": [
       "' Sam Sam its is beautiful outside'"
      ]
     },
     "execution_count": 60,
     "metadata": {},
     "output_type": "execute_result"
    }
   ],
   "source": [
    "y"
   ]
  },
  {
   "cell_type": "code",
   "execution_count": 61,
   "id": "ccdb0dfe",
   "metadata": {},
   "outputs": [],
   "source": [
    "y=y+'lets fuck'"
   ]
  },
  {
   "cell_type": "code",
   "execution_count": 62,
   "id": "9bcbbfb0",
   "metadata": {},
   "outputs": [
    {
     "data": {
      "text/plain": [
       "' Sam Sam its is beautiful outsidelets fuck'"
      ]
     },
     "execution_count": 62,
     "metadata": {},
     "output_type": "execute_result"
    }
   ],
   "source": [
    "y"
   ]
  },
  {
   "cell_type": "code",
   "execution_count": 63,
   "id": "f95b79ac",
   "metadata": {},
   "outputs": [
    {
     "data": {
      "text/plain": [
       "()"
      ]
     },
     "execution_count": 63,
     "metadata": {},
     "output_type": "execute_result"
    }
   ],
   "source": [
    "y.upper\n",
    "()"
   ]
  },
  {
   "cell_type": "code",
   "execution_count": 80,
   "id": "c265e13c",
   "metadata": {},
   "outputs": [],
   "source": [
    "x = 0"
   ]
  },
  {
   "cell_type": "code",
   "execution_count": null,
   "id": "58428225",
   "metadata": {},
   "outputs": [],
   "source": [
    "y="
   ]
  },
  {
   "cell_type": "code",
   "execution_count": null,
   "id": "56688a75",
   "metadata": {},
   "outputs": [],
   "source": []
  },
  {
   "cell_type": "code",
   "execution_count": null,
   "id": "9b84f03b",
   "metadata": {},
   "outputs": [],
   "source": []
  },
  {
   "cell_type": "code",
   "execution_count": 82,
   "id": "ca60d249",
   "metadata": {},
   "outputs": [
    {
     "name": "stdout",
     "output_type": "stream",
     "text": [
      "the fox brown quick\n"
     ]
    }
   ],
   "source": [
    "print('the {f} {y} {z}'.format(f='fox',y='brown',z='quick'))"
   ]
  },
  {
   "cell_type": "code",
   "execution_count": 92,
   "id": "75b4161a",
   "metadata": {},
   "outputs": [],
   "source": [
    "result =  100/77"
   ]
  },
  {
   "cell_type": "code",
   "execution_count": 93,
   "id": "f9bd34f7",
   "metadata": {},
   "outputs": [
    {
     "data": {
      "text/plain": [
       "1.2987012987012987"
      ]
     },
     "execution_count": 93,
     "metadata": {},
     "output_type": "execute_result"
    }
   ],
   "source": [
    "result\n"
   ]
  },
  {
   "cell_type": "code",
   "execution_count": 94,
   "id": "26e88d46",
   "metadata": {},
   "outputs": [
    {
     "name": "stdout",
     "output_type": "stream",
     "text": [
      "The result was 1.2987012987012987\n"
     ]
    }
   ],
   "source": [
    "print('The result was {r}'.format(r=result))\n"
   ]
  },
  {
   "cell_type": "code",
   "execution_count": 95,
   "id": "fe03a686",
   "metadata": {},
   "outputs": [
    {
     "name": "stdout",
     "output_type": "stream",
     "text": [
      "The result was 1.298701\n"
     ]
    }
   ],
   "source": [
    "print('The result was {r:1.6f}'.format(r=result))"
   ]
  },
  {
   "cell_type": "code",
   "execution_count": 96,
   "id": "dde946e7",
   "metadata": {},
   "outputs": [
    {
     "name": "stdout",
     "output_type": "stream",
     "text": [
      "bruh1.2987012987012987\n"
     ]
    }
   ],
   "source": [
    "print(f'bruh{result}' )"
   ]
  },
  {
   "cell_type": "code",
   "execution_count": null,
   "id": "197980e9",
   "metadata": {},
   "outputs": [],
   "source": []
  },
  {
   "cell_type": "code",
   "execution_count": 97,
   "id": "6c20940c",
   "metadata": {},
   "outputs": [],
   "source": [
    "s='She'\n"
   ]
  },
  {
   "cell_type": "code",
   "execution_count": 98,
   "id": "5ec134aa",
   "metadata": {},
   "outputs": [],
   "source": [
    "i='is'\n"
   ]
  },
  {
   "cell_type": "code",
   "execution_count": 99,
   "id": "a704e4c9",
   "metadata": {},
   "outputs": [],
   "source": [
    "c='cute'\n"
   ]
  },
  {
   "cell_type": "code",
   "execution_count": 102,
   "id": "59b8b58c",
   "metadata": {},
   "outputs": [
    {
     "ename": "KeyError",
     "evalue": "'s'",
     "output_type": "error",
     "traceback": [
      "\u001b[1;31m---------------------------------------------------------------------------\u001b[0m",
      "\u001b[1;31mKeyError\u001b[0m                                  Traceback (most recent call last)",
      "Input \u001b[1;32mIn [102]\u001b[0m, in \u001b[0;36m<cell line: 1>\u001b[1;34m()\u001b[0m\n\u001b[1;32m----> 1\u001b[0m \u001b[38;5;28mprint\u001b[39m(\u001b[38;5;124;43m'\u001b[39;49m\u001b[38;5;132;43;01m{s}\u001b[39;49;00m\u001b[38;5;124;43m \u001b[39;49m\u001b[38;5;132;43;01m{i}\u001b[39;49;00m\u001b[38;5;124;43m \u001b[39;49m\u001b[38;5;132;43;01m{c}\u001b[39;49;00m\u001b[38;5;124;43m'\u001b[39;49m\u001b[38;5;241;43m.\u001b[39;49m\u001b[43mformat\u001b[49m\u001b[43m(\u001b[49m\u001b[43ms\u001b[49m\u001b[43m,\u001b[49m\u001b[43mi\u001b[49m\u001b[43m,\u001b[49m\u001b[43mc\u001b[49m\u001b[43m)\u001b[49m)\n",
      "\u001b[1;31mKeyError\u001b[0m: 's'"
     ]
    }
   ],
   "source": [
    "print('{s} {i} {c}'.format(s='She',i,c))\n"
   ]
  },
  {
   "cell_type": "code",
   "execution_count": 103,
   "id": "11e3e921",
   "metadata": {},
   "outputs": [],
   "source": [
    "dreamlist=['car','girl','money']\n"
   ]
  },
  {
   "cell_type": "code",
   "execution_count": 104,
   "id": "4a738445",
   "metadata": {},
   "outputs": [
    {
     "data": {
      "text/plain": [
       "'girl'"
      ]
     },
     "execution_count": 104,
     "metadata": {},
     "output_type": "execute_result"
    }
   ],
   "source": [
    "dreamlist[1]"
   ]
  },
  {
   "cell_type": "code",
   "execution_count": 105,
   "id": "6d23815e",
   "metadata": {},
   "outputs": [
    {
     "data": {
      "text/plain": [
       "'car'"
      ]
     },
     "execution_count": 105,
     "metadata": {},
     "output_type": "execute_result"
    }
   ],
   "source": [
    "dreamlist[0]"
   ]
  },
  {
   "cell_type": "code",
   "execution_count": 106,
   "id": "d144e149",
   "metadata": {},
   "outputs": [
    {
     "ename": "SyntaxError",
     "evalue": "unmatched ']' (3196839135.py, line 3)",
     "output_type": "error",
     "traceback": [
      "\u001b[1;36m  Input \u001b[1;32mIn [106]\u001b[1;36m\u001b[0m\n\u001b[1;33m    ] bwrvw\u001b[0m\n\u001b[1;37m    ^\u001b[0m\n\u001b[1;31mSyntaxError\u001b[0m\u001b[1;31m:\u001b[0m unmatched ']'\n"
     ]
    }
   ],
   "source": [
    "gwhcwrgbv\n",
    "hn\n",
    "] bwrvw\n",
    "f\n",
    "\\wek f\\\n",
    "fj \n",
    "wwdjf \n",
    "wlef nelf pkqnef\\\n",
    "[kfp;kij\n",
    "mnw \\\n",
    "]fn \n",
    "\\wk wnrv\n",
    "w\\]v bnw\n",
    "ergfj \n",
    "[efgbwev\n",
    "web gv\n",
    "wrvnhfn [iwhrvknwrfvkhwrbvljwrfgb\n",
    "        wnrv jwb v pijefvwrbvw\n",
    "        jwrvjwb vpiwqlefwrbnvwrbvwrgbnwrlf WVBJWRVH WF.VKAHYERFVNJWERVUWERV\n",
    "        \\BHVWPIHV KWIEFHBVWOJRBGFWRF\n",
    "        \n",
    "        WRGW RFHBVUOIWRFGWRG \n",
    "        W\\R G]WRBG WR FGOWRG BWFVJEFVGVHB SEF IUYWEF KJ.VWVFDHV\n",
    "\n",
    "\\RGBHWR VJWERFVB J WIRVBWEFRKJVBWERFG\n",
    "WRFG NWEFBHVUWRGB OWDF VWFGF WR]G\n",
    " WRE GBWRBFG ;WELRG UWRG \n",
    "    WR GBWRG]\n",
    "    WR GVW\n",
    "    ERG BWR\n",
    "    G BWR\\\n",
    "    ]G WR\n",
    "    \\R HWR\n",
    "    G FBWRFG \n",
    "    WRBG W\n",
    "    R GBR G\n",
    "    WR GEW \n",
    "    GWJMH WE"
   ]
  },
  {
   "cell_type": "code",
   "execution_count": 107,
   "id": "6763bc46",
   "metadata": {},
   "outputs": [
    {
     "ename": "SyntaxError",
     "evalue": "invalid syntax (1992019205.py, line 1)",
     "output_type": "error",
     "traceback": [
      "\u001b[1;36m  Input \u001b[1;32mIn [107]\u001b[1;36m\u001b[0m\n\u001b[1;33m    p|FR GWR\u001b[0m\n\u001b[1;37m         ^\u001b[0m\n\u001b[1;31mSyntaxError\u001b[0m\u001b[1;31m:\u001b[0m invalid syntax\n"
     ]
    }
   ],
   "source": [
    "p|FR GWR\n",
    "G NBWERFG WR\n",
    "\\KG W BWR\\\n",
    "G "
   ]
  },
  {
   "cell_type": "code",
   "execution_count": 108,
   "id": "b1836173",
   "metadata": {},
   "outputs": [],
   "source": [
    "dreamlist.append('life')"
   ]
  },
  {
   "cell_type": "code",
   "execution_count": 109,
   "id": "2a1e2c97",
   "metadata": {},
   "outputs": [
    {
     "data": {
      "text/plain": [
       "['car', 'girl', 'money', 'life']"
      ]
     },
     "execution_count": 109,
     "metadata": {},
     "output_type": "execute_result"
    }
   ],
   "source": [
    "dreamlist\n"
   ]
  },
  {
   "cell_type": "code",
   "execution_count": 110,
   "id": "0c8eeeca",
   "metadata": {},
   "outputs": [
    {
     "data": {
      "text/plain": [
       "'life'"
      ]
     },
     "execution_count": 110,
     "metadata": {},
     "output_type": "execute_result"
    }
   ],
   "source": [
    "dreamlist.pop()"
   ]
  },
  {
   "cell_type": "code",
   "execution_count": 111,
   "id": "193282f3",
   "metadata": {},
   "outputs": [
    {
     "data": {
      "text/plain": [
       "'money'"
      ]
     },
     "execution_count": 111,
     "metadata": {},
     "output_type": "execute_result"
    }
   ],
   "source": [
    "dreamlist.pop()"
   ]
  },
  {
   "cell_type": "code",
   "execution_count": 112,
   "id": "56a207ba",
   "metadata": {},
   "outputs": [
    {
     "ename": "SyntaxError",
     "evalue": "invalid syntax (3195317526.py, line 1)",
     "output_type": "error",
     "traceback": [
      "\u001b[1;36m  Input \u001b[1;32mIn [112]\u001b[1;36m\u001b[0m\n\u001b[1;33m    dreamlist.\u001b[0m\n\u001b[1;37m              ^\u001b[0m\n\u001b[1;31mSyntaxError\u001b[0m\u001b[1;31m:\u001b[0m invalid syntax\n"
     ]
    }
   ],
   "source": [
    "dreamlist."
   ]
  },
  {
   "cell_type": "code",
   "execution_count": 113,
   "id": "17eca6ae",
   "metadata": {},
   "outputs": [],
   "source": [
    "popitem=dreamlist.pop()"
   ]
  },
  {
   "cell_type": "code",
   "execution_count": 114,
   "id": "f5a1c442",
   "metadata": {},
   "outputs": [
    {
     "data": {
      "text/plain": [
       "'girl'"
      ]
     },
     "execution_count": 114,
     "metadata": {},
     "output_type": "execute_result"
    }
   ],
   "source": [
    "popitem\n"
   ]
  },
  {
   "cell_type": "code",
   "execution_count": 115,
   "id": "e3b0a128",
   "metadata": {},
   "outputs": [
    {
     "data": {
      "text/plain": [
       "'car'"
      ]
     },
     "execution_count": 115,
     "metadata": {},
     "output_type": "execute_result"
    }
   ],
   "source": [
    "dreamlist.pop(0)"
   ]
  },
  {
   "cell_type": "code",
   "execution_count": 116,
   "id": "c662f9f6",
   "metadata": {},
   "outputs": [
    {
     "data": {
      "text/plain": [
       "[]"
      ]
     },
     "execution_count": 116,
     "metadata": {},
     "output_type": "execute_result"
    }
   ],
   "source": [
    "dreamlist\n"
   ]
  },
  {
   "cell_type": "code",
   "execution_count": 118,
   "id": "d380393c",
   "metadata": {},
   "outputs": [],
   "source": [
    "dreamlist.append('girl')"
   ]
  },
  {
   "cell_type": "code",
   "execution_count": 119,
   "id": "211b9640",
   "metadata": {},
   "outputs": [
    {
     "data": {
      "text/plain": [
       "['girl']"
      ]
     },
     "execution_count": 119,
     "metadata": {},
     "output_type": "execute_result"
    }
   ],
   "source": [
    "dreamlist\n"
   ]
  },
  {
   "cell_type": "code",
   "execution_count": 120,
   "id": "bab63afb",
   "metadata": {},
   "outputs": [],
   "source": [
    "newlist=['a','e','x','b','z']"
   ]
  },
  {
   "cell_type": "code",
   "execution_count": 121,
   "id": "03bfcc2e",
   "metadata": {},
   "outputs": [],
   "source": [
    "newlist.sort()"
   ]
  },
  {
   "cell_type": "code",
   "execution_count": 122,
   "id": "aadecee2",
   "metadata": {},
   "outputs": [
    {
     "data": {
      "text/plain": [
       "['a', 'b', 'e', 'x', 'z']"
      ]
     },
     "execution_count": 122,
     "metadata": {},
     "output_type": "execute_result"
    }
   ],
   "source": [
    "newlist\n"
   ]
  },
  {
   "cell_type": "code",
   "execution_count": 140,
   "id": "06cbdfda",
   "metadata": {},
   "outputs": [],
   "source": [
    "mydict={'Money':'Car','Lidf':'Girl'}"
   ]
  },
  {
   "cell_type": "code",
   "execution_count": 142,
   "id": "416ddd90",
   "metadata": {},
   "outputs": [
    {
     "data": {
      "text/plain": [
       "'Car'"
      ]
     },
     "execution_count": 142,
     "metadata": {},
     "output_type": "execute_result"
    }
   ],
   "source": [
    "mydict['Money']"
   ]
  },
  {
   "cell_type": "code",
   "execution_count": 143,
   "id": "7d9805cd",
   "metadata": {},
   "outputs": [
    {
     "data": {
      "text/plain": [
       "'Girl'"
      ]
     },
     "execution_count": 143,
     "metadata": {},
     "output_type": "execute_result"
    }
   ],
   "source": [
    "mydict['Lidf']"
   ]
  },
  {
   "cell_type": "code",
   "execution_count": 144,
   "id": "6fbef6e6",
   "metadata": {},
   "outputs": [
    {
     "data": {
      "text/plain": [
       "'CAR'"
      ]
     },
     "execution_count": 144,
     "metadata": {},
     "output_type": "execute_result"
    }
   ],
   "source": [
    "mydict['Money'].upper()"
   ]
  },
  {
   "cell_type": "code",
   "execution_count": 146,
   "id": "b8bda650",
   "metadata": {},
   "outputs": [
    {
     "data": {
      "text/plain": [
       "'girl'"
      ]
     },
     "execution_count": 146,
     "metadata": {},
     "output_type": "execute_result"
    }
   ],
   "source": [
    "mydict['Lidf'].lower()"
   ]
  },
  {
   "cell_type": "code",
   "execution_count": 147,
   "id": "3874e9b7",
   "metadata": {},
   "outputs": [],
   "source": [
    "mydict['Lidf'] = 'bruh|'"
   ]
  },
  {
   "cell_type": "code",
   "execution_count": 148,
   "id": "f770d285",
   "metadata": {},
   "outputs": [
    {
     "data": {
      "text/plain": [
       "'bruh|'"
      ]
     },
     "execution_count": 148,
     "metadata": {},
     "output_type": "execute_result"
    }
   ],
   "source": [
    "mydict['Lidf']"
   ]
  },
  {
   "cell_type": "code",
   "execution_count": 149,
   "id": "cb2b5d3a",
   "metadata": {},
   "outputs": [
    {
     "data": {
      "text/plain": [
       "dict_values(['Car', 'bruh|'])"
      ]
     },
     "execution_count": 149,
     "metadata": {},
     "output_type": "execute_result"
    }
   ],
   "source": [
    "mydict.values()"
   ]
  },
  {
   "cell_type": "code",
   "execution_count": 150,
   "id": "962cfd01",
   "metadata": {},
   "outputs": [
    {
     "data": {
      "text/plain": [
       "dict_keys(['Money', 'Lidf'])"
      ]
     },
     "execution_count": 150,
     "metadata": {},
     "output_type": "execute_result"
    }
   ],
   "source": [
    "mydict.keys()"
   ]
  },
  {
   "cell_type": "code",
   "execution_count": 151,
   "id": "57bacc30",
   "metadata": {},
   "outputs": [
    {
     "data": {
      "text/plain": [
       "dict_items([('Money', 'Car'), ('Lidf', 'bruh|')])"
      ]
     },
     "execution_count": 151,
     "metadata": {},
     "output_type": "execute_result"
    }
   ],
   "source": [
    "mydict.items()"
   ]
  },
  {
   "cell_type": "code",
   "execution_count": 153,
   "id": "593adfd4",
   "metadata": {},
   "outputs": [],
   "source": [
    "t = (1,2,3)"
   ]
  },
  {
   "cell_type": "code",
   "execution_count": null,
   "id": "b0abca36",
   "metadata": {},
   "outputs": [],
   "source": []
  },
  {
   "cell_type": "code",
   "execution_count": 154,
   "id": "c9a24462",
   "metadata": {},
   "outputs": [],
   "source": [
    "mylist = [1,2,3]"
   ]
  },
  {
   "cell_type": "code",
   "execution_count": 155,
   "id": "1974231c",
   "metadata": {},
   "outputs": [
    {
     "data": {
      "text/plain": [
       "3"
      ]
     },
     "execution_count": 155,
     "metadata": {},
     "output_type": "execute_result"
    }
   ],
   "source": [
    "len(t)"
   ]
  },
  {
   "cell_type": "code",
   "execution_count": 156,
   "id": "2261f5ea",
   "metadata": {},
   "outputs": [],
   "source": [
    "t=('one',2)"
   ]
  },
  {
   "cell_type": "code",
   "execution_count": 157,
   "id": "bd452d03",
   "metadata": {},
   "outputs": [
    {
     "data": {
      "text/plain": [
       "2"
      ]
     },
     "execution_count": 157,
     "metadata": {},
     "output_type": "execute_result"
    }
   ],
   "source": [
    "len(t)"
   ]
  },
  {
   "cell_type": "code",
   "execution_count": 158,
   "id": "1ed05667",
   "metadata": {},
   "outputs": [],
   "source": [
    "t=('a','a','b')"
   ]
  },
  {
   "cell_type": "code",
   "execution_count": 159,
   "id": "3e19fa9b",
   "metadata": {},
   "outputs": [
    {
     "data": {
      "text/plain": [
       "2"
      ]
     },
     "execution_count": 159,
     "metadata": {},
     "output_type": "execute_result"
    }
   ],
   "source": [
    "t.count('a')"
   ]
  },
  {
   "cell_type": "code",
   "execution_count": 161,
   "id": "7d98ebf5",
   "metadata": {},
   "outputs": [
    {
     "data": {
      "text/plain": [
       "0"
      ]
     },
     "execution_count": 161,
     "metadata": {},
     "output_type": "execute_result"
    }
   ],
   "source": [
    "t.index('a')"
   ]
  },
  {
   "cell_type": "code",
   "execution_count": 162,
   "id": "bbc9aadf",
   "metadata": {},
   "outputs": [
    {
     "data": {
      "text/plain": [
       "2"
      ]
     },
     "execution_count": 162,
     "metadata": {},
     "output_type": "execute_result"
    }
   ],
   "source": [
    "t.index('b')"
   ]
  },
  {
   "cell_type": "code",
   "execution_count": 163,
   "id": "88236222",
   "metadata": {},
   "outputs": [],
   "source": [
    "mylist[0]='new'"
   ]
  },
  {
   "cell_type": "code",
   "execution_count": 165,
   "id": "550234e8",
   "metadata": {},
   "outputs": [
    {
     "ename": "TypeError",
     "evalue": "'tuple' object does not support item assignment",
     "output_type": "error",
     "traceback": [
      "\u001b[1;31m---------------------------------------------------------------------------\u001b[0m",
      "\u001b[1;31mTypeError\u001b[0m                                 Traceback (most recent call last)",
      "Input \u001b[1;32mIn [165]\u001b[0m, in \u001b[0;36m<cell line: 1>\u001b[1;34m()\u001b[0m\n\u001b[1;32m----> 1\u001b[0m t[\u001b[38;5;241m0\u001b[39m]\u001b[38;5;241m=\u001b[39m\u001b[38;5;124m'\u001b[39m\u001b[38;5;124mnew\u001b[39m\u001b[38;5;124m'\u001b[39m\n",
      "\u001b[1;31mTypeError\u001b[0m: 'tuple' object does not support item assignment"
     ]
    }
   ],
   "source": [
    "\n",
    "t[0]='new'"
   ]
  },
  {
   "cell_type": "code",
   "execution_count": 167,
   "id": "6af7c600",
   "metadata": {},
   "outputs": [],
   "source": [
    "myset=set()"
   ]
  },
  {
   "cell_type": "code",
   "execution_count": 168,
   "id": "73b62808",
   "metadata": {},
   "outputs": [],
   "source": [
    "myset.add(1)"
   ]
  },
  {
   "cell_type": "code",
   "execution_count": 169,
   "id": "ada0dbb8",
   "metadata": {},
   "outputs": [
    {
     "data": {
      "text/plain": [
       "{1}"
      ]
     },
     "execution_count": 169,
     "metadata": {},
     "output_type": "execute_result"
    }
   ],
   "source": [
    "myset\n"
   ]
  },
  {
   "cell_type": "code",
   "execution_count": 170,
   "id": "5771c0d0",
   "metadata": {},
   "outputs": [],
   "source": [
    "myset.add(69)"
   ]
  },
  {
   "cell_type": "code",
   "execution_count": 171,
   "id": "06dd482b",
   "metadata": {},
   "outputs": [
    {
     "data": {
      "text/plain": [
       "{1, 69}"
      ]
     },
     "execution_count": 171,
     "metadata": {},
     "output_type": "execute_result"
    }
   ],
   "source": [
    "myset"
   ]
  },
  {
   "cell_type": "code",
   "execution_count": 173,
   "id": "09b86dec",
   "metadata": {},
   "outputs": [],
   "source": [
    "myset.add(2)"
   ]
  },
  {
   "cell_type": "code",
   "execution_count": 174,
   "id": "57482edf",
   "metadata": {},
   "outputs": [
    {
     "ename": "SyntaxError",
     "evalue": "invalid syntax (2295032204.py, line 1)",
     "output_type": "error",
     "traceback": [
      "\u001b[1;36m  Input \u001b[1;32mIn [174]\u001b[1;36m\u001b[0m\n\u001b[1;33m    |myset\u001b[0m\n\u001b[1;37m    ^\u001b[0m\n\u001b[1;31mSyntaxError\u001b[0m\u001b[1;31m:\u001b[0m invalid syntax\n"
     ]
    }
   ],
   "source": [
    "|myset"
   ]
  },
  {
   "cell_type": "code",
   "execution_count": 175,
   "id": "287c5ae6",
   "metadata": {},
   "outputs": [
    {
     "data": {
      "text/plain": [
       "{1, 2, 69}"
      ]
     },
     "execution_count": 175,
     "metadata": {},
     "output_type": "execute_result"
    }
   ],
   "source": [
    "myset"
   ]
  },
  {
   "cell_type": "code",
   "execution_count": 176,
   "id": "5362d57e",
   "metadata": {},
   "outputs": [],
   "source": [
    "mylist=[1,1,11,1,1,3,2]"
   ]
  },
  {
   "cell_type": "code",
   "execution_count": 177,
   "id": "86443d4f",
   "metadata": {},
   "outputs": [
    {
     "data": {
      "text/plain": [
       "{1, 2, 3, 11}"
      ]
     },
     "execution_count": 177,
     "metadata": {},
     "output_type": "execute_result"
    }
   ],
   "source": [
    "set(mylist)"
   ]
  },
  {
   "cell_type": "code",
   "execution_count": 180,
   "id": "86fd9935",
   "metadata": {},
   "outputs": [
    {
     "name": "stdout",
     "output_type": "stream",
     "text": [
      "Writing myfile.txt\n"
     ]
    }
   ],
   "source": [
    "%%writefile myfile.txt\n",
    "Hello this is  a text file\n",
    "this is the second line\n",
    "this is the third line\n"
   ]
  },
  {
   "cell_type": "code",
   "execution_count": 184,
   "id": "9e1e0b75",
   "metadata": {},
   "outputs": [],
   "source": [
    "myfile=open('myfile.txt')"
   ]
  },
  {
   "cell_type": "code",
   "execution_count": 185,
   "id": "9d3af297",
   "metadata": {},
   "outputs": [
    {
     "data": {
      "text/plain": [
       "'Hello this is  a text file\\nthis is the second line\\nthis is the third line\\n'"
      ]
     },
     "execution_count": 185,
     "metadata": {},
     "output_type": "execute_result"
    }
   ],
   "source": [
    "myfile.read()"
   ]
  },
  {
   "cell_type": "code",
   "execution_count": 186,
   "id": "fb866cc1",
   "metadata": {},
   "outputs": [
    {
     "data": {
      "text/plain": [
       "0"
      ]
     },
     "execution_count": 186,
     "metadata": {},
     "output_type": "execute_result"
    }
   ],
   "source": [
    "myfile.seek(0)"
   ]
  },
  {
   "cell_type": "code",
   "execution_count": 187,
   "id": "1d6ae70d",
   "metadata": {},
   "outputs": [
    {
     "data": {
      "text/plain": [
       "'Hello this is  a text file\\nthis is the second line\\nthis is the third line\\n'"
      ]
     },
     "execution_count": 187,
     "metadata": {},
     "output_type": "execute_result"
    }
   ],
   "source": [
    "myfile.read()"
   ]
  },
  {
   "cell_type": "code",
   "execution_count": 189,
   "id": "1d5c259f",
   "metadata": {},
   "outputs": [
    {
     "data": {
      "text/plain": [
       "''"
      ]
     },
     "execution_count": 189,
     "metadata": {},
     "output_type": "execute_result"
    }
   ],
   "source": [
    "myfile.read()"
   ]
  },
  {
   "cell_type": "code",
   "execution_count": 190,
   "id": "66b6a736",
   "metadata": {},
   "outputs": [],
   "source": [
    "contents=myfile.read(\n",
    ")"
   ]
  },
  {
   "cell_type": "code",
   "execution_count": 193,
   "id": "a5d8dfca",
   "metadata": {},
   "outputs": [
    {
     "data": {
      "text/plain": [
       "0"
      ]
     },
     "execution_count": 193,
     "metadata": {},
     "output_type": "execute_result"
    }
   ],
   "source": [
    "myfile.seek(0)"
   ]
  },
  {
   "cell_type": "code",
   "execution_count": 194,
   "id": "620f178b",
   "metadata": {},
   "outputs": [
    {
     "data": {
      "text/plain": [
       "['Hello this is  a text file\\n',\n",
       " 'this is the second line\\n',\n",
       " 'this is the third line\\n']"
      ]
     },
     "execution_count": 194,
     "metadata": {},
     "output_type": "execute_result"
    }
   ],
   "source": [
    "myfile.readlines()"
   ]
  },
  {
   "cell_type": "code",
   "execution_count": 195,
   "id": "844a075d",
   "metadata": {},
   "outputs": [
    {
     "data": {
      "text/plain": [
       "'C:\\\\Users\\\\Mihir\\\\My Python stuff'"
      ]
     },
     "execution_count": 195,
     "metadata": {},
     "output_type": "execute_result"
    }
   ],
   "source": [
    "pwd"
   ]
  },
  {
   "cell_type": "code",
   "execution_count": 196,
   "id": "23beb8bf",
   "metadata": {},
   "outputs": [
    {
     "name": "stdout",
     "output_type": "stream",
     "text": [
      "Hello this is  a text file\n",
      "this is the second line\n",
      "this is the third line\n",
      "\n"
     ]
    }
   ],
   "source": [
    "with open('myfile.txt',mode='r') as f:print(f.read())"
   ]
  },
  {
   "cell_type": "code",
   "execution_count": 203,
   "id": "90d241f2",
   "metadata": {},
   "outputs": [],
   "source": [
    "with open('sbgfiwsdffgsfif.txt',mode='w') as f:f.write('BRuh')"
   ]
  },
  {
   "cell_type": "code",
   "execution_count": 204,
   "id": "754cdbec",
   "metadata": {},
   "outputs": [],
   "source": [
    "with open('sbgfiwsdffgsfif.txt',mode='r') as f:(f.read())"
   ]
  },
  {
   "cell_type": "code",
   "execution_count": 207,
   "id": "8796c022",
   "metadata": {},
   "outputs": [
    {
     "name": "stdout",
     "output_type": "stream",
     "text": [
      "BRuh\n"
     ]
    }
   ],
   "source": [
    "with open('sbgfiwsdffgsfif.txt',mode='r') as f:print(f.read())"
   ]
  },
  {
   "cell_type": "code",
   "execution_count": 209,
   "id": "2b7c03cb",
   "metadata": {},
   "outputs": [],
   "source": [
    "with open('wediyhgfiewf',mode='w')as f:(f.write('meow'))"
   ]
  },
  {
   "cell_type": "code",
   "execution_count": 210,
   "id": "b490661a",
   "metadata": {},
   "outputs": [
    {
     "name": "stdout",
     "output_type": "stream",
     "text": [
      "meow\n"
     ]
    }
   ],
   "source": [
    "with open('wediyhgfiewf',mode='r')as f:print(f.read())"
   ]
  },
  {
   "cell_type": "code",
   "execution_count": 1,
   "id": "9aad965b",
   "metadata": {},
   "outputs": [
    {
     "name": "stdout",
     "output_type": "stream",
     "text": [
      "The anser is 44\n"
     ]
    }
   ],
   "source": [
    "x=4*(6+5)\n",
    "print('The anser is {}'.format(x))\n"
   ]
  },
  {
   "cell_type": "code",
   "execution_count": 2,
   "id": "51224b41",
   "metadata": {},
   "outputs": [],
   "source": [
    "with open('sbgfiwsdffgsfif.txt',mode='w') as f:f.write('Getting to the ends')"
   ]
  },
  {
   "cell_type": "code",
   "execution_count": 3,
   "id": "d808330d",
   "metadata": {},
   "outputs": [],
   "source": [
    "with open('wediyhgfiewf',mode='w') as f:f.write('Getting to the ends')"
   ]
  },
  {
   "cell_type": "code",
   "execution_count": 6,
   "id": "eab51c69",
   "metadata": {},
   "outputs": [
    {
     "name": "stdout",
     "output_type": "stream",
     "text": [
      "Getting to the ends\n"
     ]
    }
   ],
   "source": [
    "with open('wediyhgfiewf',mode='r')as f:print(f.read())"
   ]
  },
  {
   "cell_type": "code",
   "execution_count": 1,
   "id": "e44ca789",
   "metadata": {},
   "outputs": [],
   "source": [
    "s=('bruh')"
   ]
  },
  {
   "cell_type": "code",
   "execution_count": 4,
   "id": "a26f69f7",
   "metadata": {},
   "outputs": [
    {
     "ename": "AttributeError",
     "evalue": "'str' object has no attribute 'print'",
     "output_type": "error",
     "traceback": [
      "\u001b[1;31m---------------------------------------------------------------------------\u001b[0m",
      "\u001b[1;31mAttributeError\u001b[0m                            Traceback (most recent call last)",
      "Input \u001b[1;32mIn [4]\u001b[0m, in \u001b[0;36m<cell line: 1>\u001b[1;34m()\u001b[0m\n\u001b[1;32m----> 1\u001b[0m \u001b[43ms\u001b[49m\u001b[38;5;241;43m.\u001b[39;49m\u001b[43mprint\u001b[49m[\u001b[38;5;241m1\u001b[39m:\u001b[38;5;241m2\u001b[39m]\n",
      "\u001b[1;31mAttributeError\u001b[0m: 'str' object has no attribute 'print'"
     ]
    }
   ],
   "source": []
  },
  {
   "cell_type": "code",
   "execution_count": 5,
   "id": "c5be72d2",
   "metadata": {},
   "outputs": [],
   "source": [
    "d = {'k1':[1,2,{'k2':['this is tricky',{'tough':[1,2,['hello']]}]}]}"
   ]
  },
  {
   "cell_type": "markdown",
   "id": "99af29f2",
   "metadata": {},
   "source": [
    "d['k1'][2][1]['tough'][2][0]"
   ]
  },
  {
   "cell_type": "code",
   "execution_count": 6,
   "id": "6d89e5c7",
   "metadata": {},
   "outputs": [
    {
     "data": {
      "text/plain": [
       "'hello'"
      ]
     },
     "execution_count": 6,
     "metadata": {},
     "output_type": "execute_result"
    }
   ],
   "source": [
    "d['k1'][2]['k2'][1]['tough'][2][0]"
   ]
  },
  {
   "cell_type": "code",
   "execution_count": 8,
   "id": "9b62ee59",
   "metadata": {},
   "outputs": [],
   "source": [
    "tup=(1,2,3)"
   ]
  },
  {
   "cell_type": "code",
   "execution_count": 14,
   "id": "0e495a01",
   "metadata": {},
   "outputs": [
    {
     "name": "stdout",
     "output_type": "stream",
     "text": [
      "1\n",
      "2\n",
      "3\n"
     ]
    }
   ],
   "source": [
    "for ite in tup:\n",
    "    print(ite) "
   ]
  },
  {
   "cell_type": "code",
   "execution_count": 15,
   "id": "4bef254b",
   "metadata": {},
   "outputs": [],
   "source": [
    "mylist=[(1,2),(3,4),(5,6),(7,8)]"
   ]
  },
  {
   "cell_type": "code",
   "execution_count": 16,
   "id": "82d89318",
   "metadata": {},
   "outputs": [
    {
     "data": {
      "text/plain": [
       "4"
      ]
     },
     "execution_count": 16,
     "metadata": {},
     "output_type": "execute_result"
    }
   ],
   "source": [
    "len(mylist)"
   ]
  },
  {
   "cell_type": "code",
   "execution_count": 19,
   "id": "3d2bf237",
   "metadata": {},
   "outputs": [
    {
     "name": "stdout",
     "output_type": "stream",
     "text": [
      "(1, 2)\n",
      "(3, 4)\n",
      "(5, 6)\n",
      "(7, 8)\n"
     ]
    }
   ],
   "source": [
    "for ite in mylist:\n",
    "    print(ite)"
   ]
  },
  {
   "cell_type": "code",
   "execution_count": 1,
   "id": "8cbf1378",
   "metadata": {},
   "outputs": [
    {
     "name": "stdout",
     "output_type": "stream",
     "text": [
      "1\n",
      "5\n",
      "8\n",
      "11\n"
     ]
    }
   ],
   "source": [
    "bruhlist=[(1,2,3),(5,6,7),(8,9,10),(11,12,13)]\n",
    "for a,b,c in bruhlist:\n",
    "    print(a)"
   ]
  },
  {
   "cell_type": "code",
   "execution_count": 2,
   "id": "6540852e",
   "metadata": {},
   "outputs": [
    {
     "name": "stdout",
     "output_type": "stream",
     "text": [
      "1 2 3\n",
      "5 6 7\n",
      "8 9 10\n",
      "11 12 13\n"
     ]
    }
   ],
   "source": [
    "for a,b,c in bruhlist:\n",
    "    print(a,b,c)"
   ]
  },
  {
   "cell_type": "code",
   "execution_count": 3,
   "id": "f0155438",
   "metadata": {},
   "outputs": [
    {
     "name": "stdout",
     "output_type": "stream",
     "text": [
      "1 13\n",
      "5 13\n",
      "8 13\n",
      "11 13\n"
     ]
    }
   ],
   "source": [
    "for a,b,mc in bruhlist:\n",
    "    print(a,c)"
   ]
  },
  {
   "cell_type": "code",
   "execution_count": 40,
   "id": "eef696d3",
   "metadata": {},
   "outputs": [],
   "source": [
    "dict={'cat':'meow','dog':'boof','bear':'growel'}"
   ]
  },
  {
   "cell_type": "code",
   "execution_count": 41,
   "id": "14ee577e",
   "metadata": {},
   "outputs": [
    {
     "name": "stdout",
     "output_type": "stream",
     "text": [
      "growel\n",
      "growel\n"
     ]
    }
   ],
   "source": [
    "y='bear'\n",
    "x=dict[y]\n",
    "for value in dict.values():\n",
    "    if value == 'meow':\n",
    "        print(x)\n",
    "    elif value =='boof':\n",
    "        print(x)\n",
    "\n",
    "    \n",
    "        \n",
    "        "
   ]
  },
  {
   "cell_type": "code",
   "execution_count": 52,
   "id": "ec599813",
   "metadata": {},
   "outputs": [
    {
     "name": "stdout",
     "output_type": "stream",
     "text": [
      "i\n",
      "n\n",
      "p\n",
      "u\n",
      "t\n"
     ]
    }
   ],
   "source": [
    "x='x'\n",
    "mystring='xxixxxxxxxxxnxxxxxxxxxpxxxxxxxxxxxxxxxxxxxuxxxxtx'\n",
    "for letter in mystring:\n",
    "    if letter == x:\n",
    "        continue\n",
    "    print(letter)"
   ]
  },
  {
   "cell_type": "code",
   "execution_count": 58,
   "id": "b096303f",
   "metadata": {},
   "outputs": [
    {
     "name": "stdout",
     "output_type": "stream",
     "text": [
      "1\n",
      "3\n",
      "5\n",
      "7\n",
      "9\n"
     ]
    }
   ],
   "source": [
    "for num in range(1,11,2):\n",
    "    print(num)"
   ]
  },
  {
   "cell_type": "code",
   "execution_count": 62,
   "id": "3d646453",
   "metadata": {},
   "outputs": [
    {
     "name": "stdout",
     "output_type": "stream",
     "text": [
      "word=a,index=0\n",
      "word=b,index=1\n",
      "word=c,index=2\n",
      "word=d,index=3\n",
      "word=e,index=4\n"
     ]
    }
   ],
   "source": [
    "indexcount=0\n",
    "for letter in 'abcde':\n",
    "    print('word={},index={}'.format(letter,indexcount))\n",
    "    indexcount+=1"
   ]
  },
  {
   "cell_type": "code",
   "execution_count": 65,
   "id": "0f747161",
   "metadata": {},
   "outputs": [
    {
     "name": "stdout",
     "output_type": "stream",
     "text": [
      "(0, 'a')\n",
      "(1, 'b')\n",
      "(2, 'c')\n",
      "(3, 'd')\n",
      "(4, 'e')\n"
     ]
    }
   ],
   "source": [
    "for num  in enumerate('abcde'):\n",
    "    print(num)\n",
    "    "
   ]
  },
  {
   "cell_type": "code",
   "execution_count": null,
   "id": "1729ae8c",
   "metadata": {},
   "outputs": [],
   "source": []
  }
 ],
 "metadata": {
  "kernelspec": {
   "display_name": "Python 3 (ipykernel)",
   "language": "python",
   "name": "python3"
  },
  "language_info": {
   "codemirror_mode": {
    "name": "ipython",
    "version": 3
   },
   "file_extension": ".py",
   "mimetype": "text/x-python",
   "name": "python",
   "nbconvert_exporter": "python",
   "pygments_lexer": "ipython3",
   "version": "3.9.12"
  }
 },
 "nbformat": 4,
 "nbformat_minor": 5
}
