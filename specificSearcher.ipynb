{
 "cells": [
  {
   "cell_type": "code",
   "execution_count": 2,
   "metadata": {},
   "outputs": [],
   "source": [
    "from types import NoneType\n",
    "\n",
    "\n",
    "def scanner(text):\n",
    "    import re\n",
    "    phonepattern = re.compile(r'(\\d{3})-(\\d{3})-(\\d{4})')\n",
    "    phone = re.search(phonepattern,text)\n",
    "    if isinstance(phone,NoneType):\n",
    "        pass\n",
    "    else:\n",
    "        resul=phone.group()\n",
    "    \n",
    "        return resul\n",
    "\n"
   ]
  },
  {
   "cell_type": "code",
   "execution_count": 3,
   "metadata": {},
   "outputs": [
    {
     "name": "stdout",
     "output_type": "stream",
     "text": [
      "719-266-2837\n",
      "Found in EMTGPSXQEJX.txt in Four\n"
     ]
    }
   ],
   "source": [
    "filelst=list()\n",
    "import os\n",
    "from unittest import result\n",
    "for folder , sub_folders , files in os.walk(\"/Users/mihirpatel/Documents/GitHub/Python_Learn/Puzzle/extracted_content/\"):\n",
    "        \n",
    "     for sub_fold in sub_folders:\n",
    "        sub_dir_list = os.listdir(f\"/Users/mihirpatel/Documents/GitHub/Python_Learn/Puzzle/extracted_content/{sub_fold}\")\n",
    "        for x in sub_dir_list:\n",
    "            \n",
    "            fi = open(f\"/Users/mihirpatel/Documents/GitHub/Python_Learn/Puzzle/extracted_content/{sub_fold}/{x}\",'r')\n",
    "            content = fi.read()\n",
    "            z =scanner(content)\n",
    "            if z!= None:\n",
    "                print(z)\n",
    "                print(f'Found in {x} in {sub_fold}')\n",
    "            \n",
    "       \n",
    "\n",
    "#Working\n",
    "\n",
    "\n",
    "        \n",
    "    \n",
    "       "
   ]
  }
 ],
 "metadata": {
  "kernelspec": {
   "display_name": "Python 3.10.8 64-bit",
   "language": "python",
   "name": "python3"
  },
  "language_info": {
   "codemirror_mode": {
    "name": "ipython",
    "version": 3
   },
   "file_extension": ".py",
   "mimetype": "text/x-python",
   "name": "python",
   "nbconvert_exporter": "python",
   "pygments_lexer": "ipython3",
   "version": "3.10.8"
  },
  "orig_nbformat": 4,
  "vscode": {
   "interpreter": {
    "hash": "aee8b7b246df8f9039afb4144a1f6fd8d2ca17a180786b69acc140d282b71a49"
   }
  }
 },
 "nbformat": 4,
 "nbformat_minor": 2
}
